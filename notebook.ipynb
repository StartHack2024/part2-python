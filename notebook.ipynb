{
 "cells": [
  {
   "cell_type": "code",
   "execution_count": null,
   "metadata": {},
   "outputs": [
    {
     "ename": "",
     "evalue": "",
     "output_type": "error",
     "traceback": [
      "\u001b[1;31mRunning cells with 'Part2' requires the ipykernel package.\n",
      "\u001b[1;31mRun the following command to install 'ipykernel' into the Python environment. \n",
      "\u001b[1;31mCommand: '/home/teevik/Documents/NTNU/Hack/Part2/bin/python -m pip install ipykernel -U --force-reinstall'"
     ]
    }
   ],
   "source": [
    "import ee\n",
    "import geemap\n",
    "import os"
   ]
  },
  {
   "cell_type": "code",
   "execution_count": null,
   "metadata": {},
   "outputs": [
    {
     "ename": "",
     "evalue": "",
     "output_type": "error",
     "traceback": [
      "\u001b[1;31mRunning cells with 'Part2' requires the ipykernel package.\n",
      "\u001b[1;31mRun the following command to install 'ipykernel' into the Python environment. \n",
      "\u001b[1;31mCommand: '/home/teevik/Documents/NTNU/Hack/Part2/bin/python -m pip install ipykernel -U --force-reinstall'"
     ]
    }
   ],
   "source": [
    "brazil_shapefile = geemap.shp_to_ee('./content/Brazil/Brazil.shp')\n",
    "\n",
    "Map = geemap.Map()\n",
    "\n",
    "igbpLandCoverVis = {\n",
    "    'min': 1.0,\n",
    "    'max': 17.0,\n",
    "    'palette': [\n",
    "        '05450a',\n",
    "        '086a10',\n",
    "        '54a708',\n",
    "        '78d203',\n",
    "        '009900',\n",
    "        'c6b044',\n",
    "        'dcd159',\n",
    "        'dade48',\n",
    "        'fbff13',\n",
    "        'b6ff05',\n",
    "        '27ff87',\n",
    "        'c24f44',\n",
    "        'a5a5a5',\n",
    "        'ff6d4c',\n",
    "        '69fff8',\n",
    "        'f9ffa4',\n",
    "        '1c0dff',\n",
    "    ],\n",
    "}\n",
    "\n",
    "# lc03 = ee.Image('projects/hack-417820/assets/MODIS/MCD12Q1_Brazil_2003').select('b1')\n",
    "# lc14 = ee.Image('projects/hack-417820/assets/MODIS/MCD12Q1_Brazil_2014').select('b1')\n",
    "# lc15 = ee.Image('projects/hack-417820/assets/MODIS/MCD12Q1_Brazil_2015').select('b1')\n",
    "# lc16 = ee.Image('projects/hack-417820/assets/MODIS/MCD12Q1_Brazil_2016').select('b1')\n",
    "# lc17 = ee.Image('projects/hack-417820/assets/MODIS/MCD12Q1_Brazil_2017').select('b1')\n",
    "# lc18 = ee.Image('projects/hack-417820/assets/MODIS/MCD12Q1_Brazil_2018').select('b1')\n",
    "# lc19 = ee.Image('projects/hack-417820/assets/MODIS/MCD12Q1_Brazil_2019').select('b1')\n",
    "# lc20 = ee.Image('projects/hack-417820/assets/MODIS/MCD12Q1_Brazil_2020').select('b1')\n",
    "\n",
    "# brazil_lc03 = lc03.clip(brazil_shapefile)\n",
    "# brazil_lc14 = lc14.clip(brazil_shapefile)\n",
    "# brazil_lc15 = lc15.clip(brazil_shapefile)\n",
    "# brazil_lc16 = lc16.clip(brazil_shapefile)\n",
    "# brazil_lc17 = lc17.clip(brazil_shapefile)\n",
    "# brazil_lc18 = lc18.clip(brazil_shapefile)\n",
    "# brazil_lc19 = lc19.clip(brazil_shapefile)\n",
    "# brazil_lc20 = lc20.clip(brazil_shapefile)\n",
    "\n",
    "# Map.setCenter(-55, -10, 4)\n",
    "# Map.addLayer(brazil_lc14, igbpLandCoverVis, 'MODIS Land Cover 2014')\n",
    "# Map.addLayer(brazil_lc15, igbpLandCoverVis, 'MODIS Land Cover 2015')\n",
    "# Map.addLayer(brazil_lc16, igbpLandCoverVis, 'MODIS Land Cover 2016')\n",
    "# Map.addLayer(brazil_lc17, igbpLandCoverVis, 'MODIS Land Cover 2017')\n",
    "# Map.addLayer(brazil_lc18, igbpLandCoverVis, 'MODIS Land Cover 2018')\n",
    "# Map.addLayer(brazil_lc19, igbpLandCoverVis, 'MODIS Land Cover 2019')\n",
    "# Map.addLayer(brazil_lc20, igbpLandCoverVis, 'MODIS Land Cover 2020')\n",
    "\n",
    "years = range(2002, 2021)  # 2002 to 2020\n",
    "lc_images = []\n",
    "\n",
    "for year in years:\n",
    "    lc_image = ee.Image(f\"projects/hack-417820/assets/MODIS/MCD12Q1_Brazil_{year}\").select('b1')\n",
    "    lc_images.append(lc_image)\n",
    "\n",
    "    out_dir = os.path.join(os.path.expanduser('~'), 'Downloads')\n",
    "    global_stats = os.path.join(out_dir, f'global_stats_sum_{year}.csv')\n",
    "\n",
    "    geemap.zonal_statistics_by_group(\n",
    "        lc_image,\n",
    "        brazil_shapefile,\n",
    "        global_stats,\n",
    "        statistics_type='SUM',\n",
    "        denominator=1000000,\n",
    "        decimal_places=2,\n",
    "    )\n",
    "\n",
    "\n",
    "igbpLandCoverVis = {\n",
    "    'min': 1.0,\n",
    "    'max': 17.0,\n",
    "    'palette': [\n",
    "        '05450a', '086a10', '54a708', '78d203', '009900', 'c6b044',\n",
    "        'dcd159', 'dade48', 'fbff13', 'b6ff05', '27ff87', 'c24f44',\n",
    "        'a5a5a5', 'ff6d4c', '69fff8', 'f9ffa4', '1c0dff'\n",
    "    ]\n",
    "}\n",
    "\n",
    "brazil_lc_images = [lc.clip(brazil_shapefile) for lc in lc_images]\n",
    "\n",
    "for i, lc_image in enumerate(brazil_lc_images):\n",
    "    Map.addLayer(lc_image, igbpLandCoverVis, f'MODIS Land Cover {years[i]}')\n",
    "\n",
    "\n",
    "population = ee.Image('projects/hack-417820/assets/bra_ppp_2020_UNadj_constrained').select('b1')\n",
    "\n",
    "legend_keys = ['Evergreen Needleleaf Forests', 'Evergreen Broadleaf Forests', 'Deciduous Needleleaf Forests', 'Deciduous Broadleaf Forests',\n",
    "               'Mixed Forests', 'Closed Shrublands', 'Open Shrublands', 'Woody Savannas',\n",
    "               'Savannas', 'Grasslands', 'Permanent Wetlands', 'Croplands', 'Urban and Built-up',\n",
    "               'Cropland/Natural Vegetation Mosaics', 'Permanent Snow and Ice', 'Barren', 'Water Bodies']\n",
    "igbpLandCoverVisu = ['05450a', '086a10', '54a708', '78d203', '009900', 'c6b044',\n",
    "        'dcd159', 'dade48', 'fbff13', 'b6ff05', '27ff87', 'c24f44',\n",
    "        'a5a5a5', 'ff6d4c', '69fff8', 'f9ffa4', '1c0dff']\n",
    "\n",
    "Map.add_legend(keys=legend_keys, colors=igbpLandCoverVisu, position='bottomright')\n",
    "\n",
    "\n",
    "# visualization = {\n",
    "#   'bands': ['b1'],\n",
    "#   'min': 0.0,\n",
    "#   'max': 50.0,\n",
    "#   'palette': ['24126c', '1fff4f', 'd4ff50']\n",
    "# }\n",
    "\n",
    "# Map.addLayer(population, visualization, 'Population')\n",
    "\n",
    "# landcover = ee.Image('projects/hack-417820/assets/MODIS/MCD12Q1_Brazil_2004').select('b1')\n",
    "# brazil_lc = landcover.clip(brazil_shapefile)\n",
    "# Map.addLayer(brazil_lc, igbpLandCoverVis, 'MODIS Land Cover')\n",
    "\n",
    "# landcover = ee.Image('projects/hack-417820/assets/MODIS/MCD12Q1_Brazil_2005').select('b1')\n",
    "# brazil_lc = landcover.clip(brazil_shapefile)\n",
    "# Map.addLayer(brazil_lc, igbpLandCoverVis, 'MODIS Land Cover 2005')\n",
    "\n",
    "# Map.add_legend(builtin_legend='MODIS/051/MCD12Q1')\n",
    "\n",
    "Map.addLayerControl()\n",
    "\n",
    "Map.setCenter(-55, -10, 4)\n",
    "\n",
    "download_dir = os.path.join(os.path.expanduser(\"~\"), \"Downloads\")\n",
    "html_file = os.path.join(download_dir, \"map_1.html\")\n",
    "Map.to_html(filename=html_file, title=\"My Map\", width=\"100%\", height=\"880px\")\n",
    "\n",
    "Map"
   ]
  },
  {
   "cell_type": "code",
   "execution_count": null,
   "metadata": {},
   "outputs": [
    {
     "ename": "",
     "evalue": "",
     "output_type": "error",
     "traceback": [
      "\u001b[1;31mRunning cells with 'Part2' requires the ipykernel package.\n",
      "\u001b[1;31mRun the following command to install 'ipykernel' into the Python environment. \n",
      "\u001b[1;31mCommand: '/home/teevik/Documents/NTNU/Hack/Part2/bin/python -m pip install ipykernel -U --force-reinstall'"
     ]
    }
   ],
   "source": [
    "Map = geemap.Map(center=[-9, -51], zoom=10)\n",
    "\n",
    "lc03 = ee.Image('projects/hack-417820/assets/MODIS/MCD12Q1_Brazil_2003').select('b1')\n",
    "lc20 = ee.Image('projects/hack-417820/assets/MODIS/MCD12Q1_Brazil_2020').select('b1')\n",
    "\n",
    "brazil_lc03 = lc03.clip(brazil_shapefile)\n",
    "brazil_lc20 = lc20.clip(brazil_shapefile)\n",
    "\n",
    "left_layer = geemap.ee_tile_layer(brazil_lc03, igbpLandCoverVis, \"MODIS\")\n",
    "right_layer = geemap.ee_tile_layer(brazil_lc20, igbpLandCoverVis, \"MODIS\")\n",
    "Map.split_map(left_layer, right_layer)\n",
    "Map.add_legend(\n",
    "    title=\"Land cover 2003\", builtin_legend='MODIS/006/MCD12Q1', position='bottomleft'\n",
    ")\n",
    "Map.add_legend(\n",
    "    title=\"Land cover 2020\",\n",
    "    builtin_legend='MODIS/006/MCD12Q1',\n",
    "    position='bottomright',\n",
    ")\n",
    "\n",
    "download_dir = os.path.join(os.path.expanduser(\"~\"), \"Downloads\")\n",
    "html_file = os.path.join(download_dir, \"map_2.html\")\n",
    "Map.to_html(filename=html_file, title=\"My Map\", width=\"100%\", height=\"880px\")\n",
    "\n",
    "Map"
   ]
  },
  {
   "cell_type": "code",
   "execution_count": null,
   "metadata": {},
   "outputs": [
    {
     "ename": "",
     "evalue": "",
     "output_type": "error",
     "traceback": [
      "\u001b[1;31mRunning cells with 'Part2' requires the ipykernel package.\n",
      "\u001b[1;31mRun the following command to install 'ipykernel' into the Python environment. \n",
      "\u001b[1;31mCommand: '/home/teevik/Documents/NTNU/Hack/Part2/bin/python -m pip install ipykernel -U --force-reinstall'"
     ]
    }
   ],
   "source": [
    "Map = geemap.Map(center=[-9, -51], zoom=10)\n",
    "\n",
    "brazil_forest_fires = ee.Image('projects/hack-417820/assets/barea/barea2022_bra').select('b1')\n",
    "brazil_landmass = ee.Image('projects/hack-417820/assets/MODIS/MCD12Q1_Brazil_2022').select('b1')\n",
    "\n",
    "brazil_forest_fires = brazil_forest_fires.clip(brazil_shapefile)\n",
    "brazil_landmass = brazil_landmass.clip(brazil_shapefile)\n",
    "\n",
    "left_layer = geemap.ee_tile_layer(brazil_forest_fires, igbpLandCoverVis, \"MODIS\")\n",
    "right_layer = geemap.ee_tile_layer(brazil_landmass, igbpLandCoverVis, \"MODIS\")\n",
    "\n",
    "Map.split_map(left_layer, right_layer)\n",
    "Map.add_legend(\n",
    "    title=\"Land cover 2003\", builtin_legend='MODIS/006/MCD12Q1', position='bottomleft'\n",
    ")\n",
    "Map.add_legend(\n",
    "    title=\"Land cover 2020\",\n",
    "    builtin_legend='MODIS/006/MCD12Q1',\n",
    "    position='bottomright',\n",
    ")\n",
    "\n",
    "download_dir = os.path.join(os.path.expanduser(\"~\"), \"Downloads\")\n",
    "html_file = os.path.join(download_dir, \"map_2.html\")\n",
    "Map.to_html(filename=html_file, title=\"My Map\", width=\"100%\", height=\"880px\")\n",
    "\n",
    "Map"
   ]
  },
  {
   "cell_type": "code",
   "execution_count": null,
   "metadata": {},
   "outputs": [
    {
     "ename": "",
     "evalue": "",
     "output_type": "error",
     "traceback": [
      "\u001b[1;31mRunning cells with 'Part2' requires the ipykernel package.\n",
      "\u001b[1;31mRun the following command to install 'ipykernel' into the Python environment. \n",
      "\u001b[1;31mCommand: '/home/teevik/Documents/NTNU/Hack/Part2/bin/python -m pip install ipykernel -U --force-reinstall'"
     ]
    }
   ],
   "source": [
    "col = ee.ImageCollection('projects/hack-417820/assets/MODIS').select('b1');\n",
    "\n",
    "fc = ee.FeatureCollection('USDOS/LSIB_SIMPLE/2017').filter(\n",
    "    'country_na == \"Brazil\"'\n",
    ")\n",
    "\n",
    "\n",
    "# Clip the DEM by the Southeast Asia boundary FeatureCollection.\n",
    "# Iterate over the ImageCollection and clip each image to the FeatureCollection.\n",
    "col_clip = col.map(lambda img: img.clipToCollection(fc))\n",
    "DOY = col_clip.filterDate('2002-01-01', '2021-01-01');\n",
    "\n",
    "distinctDOY = col.filterDate('2002-01-01', '2021-01-01');\n",
    "\n",
    "num_images = distinctDOY.size().getInfo()\n",
    "\n",
    "print(\"Number of images in the collection:\", num_images)"
   ]
  },
  {
   "cell_type": "code",
   "execution_count": null,
   "metadata": {},
   "outputs": [
    {
     "ename": "",
     "evalue": "",
     "output_type": "error",
     "traceback": [
      "\u001b[1;31mRunning cells with 'Part2' requires the ipykernel package.\n",
      "\u001b[1;31mRun the following command to install 'ipykernel' into the Python environment. \n",
      "\u001b[1;31mCommand: '/home/teevik/Documents/NTNU/Hack/Part2/bin/python -m pip install ipykernel -U --force-reinstall'"
     ]
    }
   ],
   "source": []
  }
 ],
 "metadata": {
  "kernelspec": {
   "display_name": "Part2",
   "language": "python",
   "name": "python3"
  },
  "language_info": {
   "codemirror_mode": {
    "name": "ipython",
    "version": 3
   },
   "file_extension": ".py",
   "mimetype": "text/x-python",
   "name": "python",
   "nbconvert_exporter": "python",
   "pygments_lexer": "ipython3",
   "version": "3.11.8"
  }
 },
 "nbformat": 4,
 "nbformat_minor": 2
}
